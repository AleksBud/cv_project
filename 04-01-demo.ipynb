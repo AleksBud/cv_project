{
 "cells": [
  {
   "cell_type": "markdown",
   "id": "088ba255-5959-4ce9-8efc-ef31628b62de",
   "metadata": {},
   "source": [
    "# Неделя 4. Понедельник\n",
    "## Нейронные сети\n",
    "### PyTorch"
   ]
  },
  {
   "cell_type": "code",
   "execution_count": 1,
   "id": "378c4309",
   "metadata": {},
   "outputs": [
    {
     "name": "stderr",
     "output_type": "stream",
     "text": [
      "/Users/paveldumin/miniforge3/envs/pt/lib/python3.8/site-packages/tqdm/auto.py:22: TqdmWarning: IProgress not found. Please update jupyter and ipywidgets. See https://ipywidgets.readthedocs.io/en/stable/user_install.html\n",
      "  from .autonotebook import tqdm as notebook_tqdm\n"
     ]
    }
   ],
   "source": [
    "import torch\n",
    "\n",
    "# nn - модуль со слоями\n",
    "from torch import nn\n",
    "\n",
    "# optim - оптимизаторы\n",
    "from torch import optim\n",
    "\n",
    "# TensorDataset – класс датасета, с помощью которого мы укажем DataLoader что у нас за данные\n",
    "from torch.utils.data import TensorDataset, DataLoader, random_split\n",
    "\n",
    "# summary\n",
    "from torchsummary import summary\n",
    "\n",
    "from sklearn.datasets import make_classification\n",
    "import matplotlib.pyplot as plt\n",
    "import pandas as pd\n",
    "import seaborn as sns\n",
    "import numpy as np\n",
    "\n",
    "# progress bar\n",
    "from tqdm.notebook import tqdm"
   ]
  },
  {
   "cell_type": "code",
   "execution_count": 3,
   "id": "6e957459",
   "metadata": {},
   "outputs": [
    {
     "name": "stdout",
     "output_type": "stream",
     "text": [
      "\u001b[0;31mSignature:\u001b[0m\n",
      "\u001b[0mmake_classification\u001b[0m\u001b[0;34m(\u001b[0m\u001b[0;34m\u001b[0m\n",
      "\u001b[0;34m\u001b[0m    \u001b[0mn_samples\u001b[0m\u001b[0;34m=\u001b[0m\u001b[0;36m100\u001b[0m\u001b[0;34m,\u001b[0m\u001b[0;34m\u001b[0m\n",
      "\u001b[0;34m\u001b[0m    \u001b[0mn_features\u001b[0m\u001b[0;34m=\u001b[0m\u001b[0;36m20\u001b[0m\u001b[0;34m,\u001b[0m\u001b[0;34m\u001b[0m\n",
      "\u001b[0;34m\u001b[0m    \u001b[0;34m*\u001b[0m\u001b[0;34m,\u001b[0m\u001b[0;34m\u001b[0m\n",
      "\u001b[0;34m\u001b[0m    \u001b[0mn_informative\u001b[0m\u001b[0;34m=\u001b[0m\u001b[0;36m2\u001b[0m\u001b[0;34m,\u001b[0m\u001b[0;34m\u001b[0m\n",
      "\u001b[0;34m\u001b[0m    \u001b[0mn_redundant\u001b[0m\u001b[0;34m=\u001b[0m\u001b[0;36m2\u001b[0m\u001b[0;34m,\u001b[0m\u001b[0;34m\u001b[0m\n",
      "\u001b[0;34m\u001b[0m    \u001b[0mn_repeated\u001b[0m\u001b[0;34m=\u001b[0m\u001b[0;36m0\u001b[0m\u001b[0;34m,\u001b[0m\u001b[0;34m\u001b[0m\n",
      "\u001b[0;34m\u001b[0m    \u001b[0mn_classes\u001b[0m\u001b[0;34m=\u001b[0m\u001b[0;36m2\u001b[0m\u001b[0;34m,\u001b[0m\u001b[0;34m\u001b[0m\n",
      "\u001b[0;34m\u001b[0m    \u001b[0mn_clusters_per_class\u001b[0m\u001b[0;34m=\u001b[0m\u001b[0;36m2\u001b[0m\u001b[0;34m,\u001b[0m\u001b[0;34m\u001b[0m\n",
      "\u001b[0;34m\u001b[0m    \u001b[0mweights\u001b[0m\u001b[0;34m=\u001b[0m\u001b[0;32mNone\u001b[0m\u001b[0;34m,\u001b[0m\u001b[0;34m\u001b[0m\n",
      "\u001b[0;34m\u001b[0m    \u001b[0mflip_y\u001b[0m\u001b[0;34m=\u001b[0m\u001b[0;36m0.01\u001b[0m\u001b[0;34m,\u001b[0m\u001b[0;34m\u001b[0m\n",
      "\u001b[0;34m\u001b[0m    \u001b[0mclass_sep\u001b[0m\u001b[0;34m=\u001b[0m\u001b[0;36m1.0\u001b[0m\u001b[0;34m,\u001b[0m\u001b[0;34m\u001b[0m\n",
      "\u001b[0;34m\u001b[0m    \u001b[0mhypercube\u001b[0m\u001b[0;34m=\u001b[0m\u001b[0;32mTrue\u001b[0m\u001b[0;34m,\u001b[0m\u001b[0;34m\u001b[0m\n",
      "\u001b[0;34m\u001b[0m    \u001b[0mshift\u001b[0m\u001b[0;34m=\u001b[0m\u001b[0;36m0.0\u001b[0m\u001b[0;34m,\u001b[0m\u001b[0;34m\u001b[0m\n",
      "\u001b[0;34m\u001b[0m    \u001b[0mscale\u001b[0m\u001b[0;34m=\u001b[0m\u001b[0;36m1.0\u001b[0m\u001b[0;34m,\u001b[0m\u001b[0;34m\u001b[0m\n",
      "\u001b[0;34m\u001b[0m    \u001b[0mshuffle\u001b[0m\u001b[0;34m=\u001b[0m\u001b[0;32mTrue\u001b[0m\u001b[0;34m,\u001b[0m\u001b[0;34m\u001b[0m\n",
      "\u001b[0;34m\u001b[0m    \u001b[0mrandom_state\u001b[0m\u001b[0;34m=\u001b[0m\u001b[0;32mNone\u001b[0m\u001b[0;34m,\u001b[0m\u001b[0;34m\u001b[0m\n",
      "\u001b[0;34m\u001b[0m\u001b[0;34m)\u001b[0m\u001b[0;34m\u001b[0m\u001b[0;34m\u001b[0m\u001b[0m\n",
      "\u001b[0;31mDocstring:\u001b[0m\n",
      "Generate a random n-class classification problem.\n",
      "\n",
      "This initially creates clusters of points normally distributed (std=1)\n",
      "about vertices of an ``n_informative``-dimensional hypercube with sides of\n",
      "length ``2*class_sep`` and assigns an equal number of clusters to each\n",
      "class. It introduces interdependence between these features and adds\n",
      "various types of further noise to the data.\n",
      "\n",
      "Without shuffling, ``X`` horizontally stacks features in the following\n",
      "order: the primary ``n_informative`` features, followed by ``n_redundant``\n",
      "linear combinations of the informative features, followed by ``n_repeated``\n",
      "duplicates, drawn randomly with replacement from the informative and\n",
      "redundant features. The remaining features are filled with random noise.\n",
      "Thus, without shuffling, all useful features are contained in the columns\n",
      "``X[:, :n_informative + n_redundant + n_repeated]``.\n",
      "\n",
      "Read more in the :ref:`User Guide <sample_generators>`.\n",
      "\n",
      "Parameters\n",
      "----------\n",
      "n_samples : int, default=100\n",
      "    The number of samples.\n",
      "\n",
      "n_features : int, default=20\n",
      "    The total number of features. These comprise ``n_informative``\n",
      "    informative features, ``n_redundant`` redundant features,\n",
      "    ``n_repeated`` duplicated features and\n",
      "    ``n_features-n_informative-n_redundant-n_repeated`` useless features\n",
      "    drawn at random.\n",
      "\n",
      "n_informative : int, default=2\n",
      "    The number of informative features. Each class is composed of a number\n",
      "    of gaussian clusters each located around the vertices of a hypercube\n",
      "    in a subspace of dimension ``n_informative``. For each cluster,\n",
      "    informative features are drawn independently from  N(0, 1) and then\n",
      "    randomly linearly combined within each cluster in order to add\n",
      "    covariance. The clusters are then placed on the vertices of the\n",
      "    hypercube.\n",
      "\n",
      "n_redundant : int, default=2\n",
      "    The number of redundant features. These features are generated as\n",
      "    random linear combinations of the informative features.\n",
      "\n",
      "n_repeated : int, default=0\n",
      "    The number of duplicated features, drawn randomly from the informative\n",
      "    and the redundant features.\n",
      "\n",
      "n_classes : int, default=2\n",
      "    The number of classes (or labels) of the classification problem.\n",
      "\n",
      "n_clusters_per_class : int, default=2\n",
      "    The number of clusters per class.\n",
      "\n",
      "weights : array-like of shape (n_classes,) or (n_classes - 1,),              default=None\n",
      "    The proportions of samples assigned to each class. If None, then\n",
      "    classes are balanced. Note that if ``len(weights) == n_classes - 1``,\n",
      "    then the last class weight is automatically inferred.\n",
      "    More than ``n_samples`` samples may be returned if the sum of\n",
      "    ``weights`` exceeds 1. Note that the actual class proportions will\n",
      "    not exactly match ``weights`` when ``flip_y`` isn't 0.\n",
      "\n",
      "flip_y : float, default=0.01\n",
      "    The fraction of samples whose class is assigned randomly. Larger\n",
      "    values introduce noise in the labels and make the classification\n",
      "    task harder. Note that the default setting flip_y > 0 might lead\n",
      "    to less than ``n_classes`` in y in some cases.\n",
      "\n",
      "class_sep : float, default=1.0\n",
      "    The factor multiplying the hypercube size.  Larger values spread\n",
      "    out the clusters/classes and make the classification task easier.\n",
      "\n",
      "hypercube : bool, default=True\n",
      "    If True, the clusters are put on the vertices of a hypercube. If\n",
      "    False, the clusters are put on the vertices of a random polytope.\n",
      "\n",
      "shift : float, ndarray of shape (n_features,) or None, default=0.0\n",
      "    Shift features by the specified value. If None, then features\n",
      "    are shifted by a random value drawn in [-class_sep, class_sep].\n",
      "\n",
      "scale : float, ndarray of shape (n_features,) or None, default=1.0\n",
      "    Multiply features by the specified value. If None, then features\n",
      "    are scaled by a random value drawn in [1, 100]. Note that scaling\n",
      "    happens after shifting.\n",
      "\n",
      "shuffle : bool, default=True\n",
      "    Shuffle the samples and the features.\n",
      "\n",
      "random_state : int, RandomState instance or None, default=None\n",
      "    Determines random number generation for dataset creation. Pass an int\n",
      "    for reproducible output across multiple function calls.\n",
      "    See :term:`Glossary <random_state>`.\n",
      "\n",
      "Returns\n",
      "-------\n",
      "X : ndarray of shape (n_samples, n_features)\n",
      "    The generated samples.\n",
      "\n",
      "y : ndarray of shape (n_samples,)\n",
      "    The integer labels for class membership of each sample.\n",
      "\n",
      "See Also\n",
      "--------\n",
      "make_blobs : Simplified variant.\n",
      "make_multilabel_classification : Unrelated generator for multilabel tasks.\n",
      "\n",
      "Notes\n",
      "-----\n",
      "The algorithm is adapted from Guyon [1] and was designed to generate\n",
      "the \"Madelon\" dataset.\n",
      "\n",
      "References\n",
      "----------\n",
      ".. [1] I. Guyon, \"Design of experiments for the NIPS 2003 variable\n",
      "       selection benchmark\", 2003.\n",
      "\u001b[0;31mFile:\u001b[0m      ~/miniforge3/envs/pt/lib/python3.8/site-packages/sklearn/datasets/_samples_generator.py\n",
      "\u001b[0;31mType:\u001b[0m      function\n"
     ]
    }
   ],
   "source": [
    "?make_classification"
   ]
  },
  {
   "cell_type": "code",
   "execution_count": 2,
   "id": "429c80c5",
   "metadata": {},
   "outputs": [
    {
     "data": {
      "text/plain": [
       "((100000, 15), (100000,))"
      ]
     },
     "execution_count": 2,
     "metadata": {},
     "output_type": "execute_result"
    }
   ],
   "source": [
    "# зададим синтетические данные для примера\n",
    "# 20 признаков, два класса, 100000 объектов\n",
    "n_features = 15\n",
    "X, y = make_classification(n_samples=100000, n_features=n_features, n_redundant=4, random_state=10, class_sep=2)\n",
    "X.shape, y.shape"
   ]
  },
  {
   "cell_type": "code",
   "execution_count": 3,
   "id": "83f28b62",
   "metadata": {},
   "outputs": [
    {
     "data": {
      "text/html": [
       "<div>\n",
       "<style scoped>\n",
       "    .dataframe tbody tr th:only-of-type {\n",
       "        vertical-align: middle;\n",
       "    }\n",
       "\n",
       "    .dataframe tbody tr th {\n",
       "        vertical-align: top;\n",
       "    }\n",
       "\n",
       "    .dataframe thead th {\n",
       "        text-align: right;\n",
       "    }\n",
       "</style>\n",
       "<table border=\"1\" class=\"dataframe\">\n",
       "  <thead>\n",
       "    <tr style=\"text-align: right;\">\n",
       "      <th></th>\n",
       "      <th>0</th>\n",
       "      <th>1</th>\n",
       "      <th>2</th>\n",
       "      <th>3</th>\n",
       "      <th>4</th>\n",
       "      <th>5</th>\n",
       "      <th>6</th>\n",
       "      <th>7</th>\n",
       "      <th>8</th>\n",
       "      <th>9</th>\n",
       "      <th>10</th>\n",
       "      <th>11</th>\n",
       "      <th>12</th>\n",
       "      <th>13</th>\n",
       "      <th>14</th>\n",
       "      <th>15</th>\n",
       "    </tr>\n",
       "  </thead>\n",
       "  <tbody>\n",
       "    <tr>\n",
       "      <th>0</th>\n",
       "      <td>-0.372544</td>\n",
       "      <td>0.149667</td>\n",
       "      <td>-1.829788</td>\n",
       "      <td>-0.710564</td>\n",
       "      <td>0.172706</td>\n",
       "      <td>-0.753473</td>\n",
       "      <td>3.219539</td>\n",
       "      <td>-2.258949</td>\n",
       "      <td>0.689458</td>\n",
       "      <td>0.215635</td>\n",
       "      <td>0.564078</td>\n",
       "      <td>0.347763</td>\n",
       "      <td>1.052765</td>\n",
       "      <td>-2.066468</td>\n",
       "      <td>0.068826</td>\n",
       "      <td>0.0</td>\n",
       "    </tr>\n",
       "    <tr>\n",
       "      <th>1</th>\n",
       "      <td>-0.920162</td>\n",
       "      <td>-1.471595</td>\n",
       "      <td>-3.181971</td>\n",
       "      <td>-2.302627</td>\n",
       "      <td>0.078188</td>\n",
       "      <td>0.191089</td>\n",
       "      <td>2.898332</td>\n",
       "      <td>-3.336875</td>\n",
       "      <td>-1.467591</td>\n",
       "      <td>0.047672</td>\n",
       "      <td>-0.734148</td>\n",
       "      <td>-0.166591</td>\n",
       "      <td>0.870139</td>\n",
       "      <td>-0.284713</td>\n",
       "      <td>-0.042125</td>\n",
       "      <td>0.0</td>\n",
       "    </tr>\n",
       "    <tr>\n",
       "      <th>2</th>\n",
       "      <td>-0.867346</td>\n",
       "      <td>-0.714984</td>\n",
       "      <td>-2.308342</td>\n",
       "      <td>1.355378</td>\n",
       "      <td>-0.165081</td>\n",
       "      <td>0.253880</td>\n",
       "      <td>2.210411</td>\n",
       "      <td>-2.444333</td>\n",
       "      <td>-0.958174</td>\n",
       "      <td>0.773928</td>\n",
       "      <td>-0.464096</td>\n",
       "      <td>-1.583906</td>\n",
       "      <td>0.319182</td>\n",
       "      <td>-0.338673</td>\n",
       "      <td>-0.512475</td>\n",
       "      <td>0.0</td>\n",
       "    </tr>\n",
       "    <tr>\n",
       "      <th>3</th>\n",
       "      <td>-2.593742</td>\n",
       "      <td>-0.488281</td>\n",
       "      <td>-2.770813</td>\n",
       "      <td>-1.514421</td>\n",
       "      <td>-0.074888</td>\n",
       "      <td>0.413238</td>\n",
       "      <td>3.281355</td>\n",
       "      <td>-3.071604</td>\n",
       "      <td>-0.529921</td>\n",
       "      <td>-0.775045</td>\n",
       "      <td>-0.158164</td>\n",
       "      <td>0.334897</td>\n",
       "      <td>-0.409302</td>\n",
       "      <td>-1.176140</td>\n",
       "      <td>0.971471</td>\n",
       "      <td>0.0</td>\n",
       "    </tr>\n",
       "    <tr>\n",
       "      <th>4</th>\n",
       "      <td>-0.207870</td>\n",
       "      <td>-0.693828</td>\n",
       "      <td>-2.322182</td>\n",
       "      <td>0.968451</td>\n",
       "      <td>1.672065</td>\n",
       "      <td>-1.305289</td>\n",
       "      <td>0.389738</td>\n",
       "      <td>-2.057347</td>\n",
       "      <td>-2.774857</td>\n",
       "      <td>-1.443170</td>\n",
       "      <td>-1.631638</td>\n",
       "      <td>0.104118</td>\n",
       "      <td>1.234805</td>\n",
       "      <td>1.906438</td>\n",
       "      <td>2.120509</td>\n",
       "      <td>1.0</td>\n",
       "    </tr>\n",
       "  </tbody>\n",
       "</table>\n",
       "</div>"
      ],
      "text/plain": [
       "         0         1         2         3         4         5         6   \\\n",
       "0 -0.372544  0.149667 -1.829788 -0.710564  0.172706 -0.753473  3.219539   \n",
       "1 -0.920162 -1.471595 -3.181971 -2.302627  0.078188  0.191089  2.898332   \n",
       "2 -0.867346 -0.714984 -2.308342  1.355378 -0.165081  0.253880  2.210411   \n",
       "3 -2.593742 -0.488281 -2.770813 -1.514421 -0.074888  0.413238  3.281355   \n",
       "4 -0.207870 -0.693828 -2.322182  0.968451  1.672065 -1.305289  0.389738   \n",
       "\n",
       "         7         8         9         10        11        12        13  \\\n",
       "0 -2.258949  0.689458  0.215635  0.564078  0.347763  1.052765 -2.066468   \n",
       "1 -3.336875 -1.467591  0.047672 -0.734148 -0.166591  0.870139 -0.284713   \n",
       "2 -2.444333 -0.958174  0.773928 -0.464096 -1.583906  0.319182 -0.338673   \n",
       "3 -3.071604 -0.529921 -0.775045 -0.158164  0.334897 -0.409302 -1.176140   \n",
       "4 -2.057347 -2.774857 -1.443170 -1.631638  0.104118  1.234805  1.906438   \n",
       "\n",
       "         14   15  \n",
       "0  0.068826  0.0  \n",
       "1 -0.042125  0.0  \n",
       "2 -0.512475  0.0  \n",
       "3  0.971471  0.0  \n",
       "4  2.120509  1.0  "
      ]
     },
     "execution_count": 3,
     "metadata": {},
     "output_type": "execute_result"
    }
   ],
   "source": [
    "# сделаем dataframe для seaborn\n",
    "df = pd.DataFrame(np.concatenate([X, y[:, np.newaxis]],axis=1))\n",
    "df.head()"
   ]
  },
  {
   "cell_type": "code",
   "execution_count": 4,
   "id": "d99e72fb",
   "metadata": {},
   "outputs": [
    {
     "data": {
      "text/plain": [
       "15"
      ]
     },
     "execution_count": 4,
     "metadata": {},
     "output_type": "execute_result"
    }
   ],
   "source": [
    "n_features"
   ]
  },
  {
   "cell_type": "code",
   "execution_count": 13,
   "id": "eeaf6ddb",
   "metadata": {},
   "outputs": [
    {
     "name": "stdout",
     "output_type": "stream",
     "text": [
      "----------------------------------------------------------------\n",
      "        Layer (type)               Output Shape         Param #\n",
      "================================================================\n",
      "            Linear-1                   [128, 1]              16\n",
      "           Sigmoid-2                   [128, 1]               0\n",
      "================================================================\n",
      "Total params: 16\n",
      "Trainable params: 16\n",
      "Non-trainable params: 0\n",
      "----------------------------------------------------------------\n",
      "Input size (MB): 0.01\n",
      "Forward/backward pass size (MB): 0.00\n",
      "Params size (MB): 0.00\n",
      "Estimated Total Size (MB): 0.01\n",
      "----------------------------------------------------------------\n"
     ]
    }
   ],
   "source": [
    "# зададим модель: на вход будет поступать n_featuers признаков (в нашем случае 15)\n",
    "# Решаем задачу бинарной классификации, на выходе 1 значение.\n",
    "model = nn.Sequential(\n",
    "    nn.Linear(n_features, 1),\n",
    "    nn.Sigmoid()\n",
    ")\n",
    "\n",
    "summary(model, (n_features, ), batch_size=128)"
   ]
  },
  {
   "cell_type": "markdown",
   "id": "ec62e281",
   "metadata": {},
   "source": [
    "Фактически мы задали обычную логистическую регрессию: \n",
    "\n",
    "$$\\sigma = \\dfrac{1}{1+ \\exp^{-\\sum_{i=0}^{i=20}x_i w_i}}$$"
   ]
  },
  {
   "cell_type": "markdown",
   "id": "84782526",
   "metadata": {},
   "source": [
    "### Подготовка датасета\n",
    "\n",
    "Будем использовать `TensorDataset`, он подходит нам, потому что мы работаем с табличными данными. Для картинок будем использовать аналогичный специальный класс, об этом позже. "
   ]
  },
  {
   "cell_type": "code",
   "execution_count": 121,
   "id": "c13ac247",
   "metadata": {},
   "outputs": [
    {
     "name": "stdout",
     "output_type": "stream",
     "text": [
      "\u001b[0;31mInit signature:\u001b[0m \u001b[0mTensorDataset\u001b[0m\u001b[0;34m(\u001b[0m\u001b[0;34m*\u001b[0m\u001b[0margs\u001b[0m\u001b[0;34m,\u001b[0m \u001b[0;34m**\u001b[0m\u001b[0mkwds\u001b[0m\u001b[0;34m)\u001b[0m\u001b[0;34m\u001b[0m\u001b[0;34m\u001b[0m\u001b[0m\n",
      "\u001b[0;31mDocstring:\u001b[0m     \n",
      "Dataset wrapping tensors.\n",
      "\n",
      "Each sample will be retrieved by indexing tensors along the first dimension.\n",
      "\n",
      "Args:\n",
      "    *tensors (Tensor): tensors that have the same size of the first dimension.\n",
      "\u001b[0;31mFile:\u001b[0m           ~/miniforge3/envs/pt/lib/python3.8/site-packages/torch/utils/data/dataset.py\n",
      "\u001b[0;31mType:\u001b[0m           type\n",
      "\u001b[0;31mSubclasses:\u001b[0m     \n"
     ]
    }
   ],
   "source": [
    "?TensorDataset"
   ]
  },
  {
   "cell_type": "code",
   "execution_count": 5,
   "id": "af3f50e4",
   "metadata": {},
   "outputs": [],
   "source": [
    "# основной тип данных pytorch - тензор, все данные должны быть в таком формате\n",
    "dataset = TensorDataset(torch.Tensor(X), torch.Tensor(y))"
   ]
  },
  {
   "cell_type": "code",
   "execution_count": 6,
   "id": "ef32045d",
   "metadata": {},
   "outputs": [
    {
     "data": {
      "text/plain": [
       "(tensor([[-0.3725,  0.1497, -1.8298,  ...,  1.0528, -2.0665,  0.0688],\n",
       "         [-0.9202, -1.4716, -3.1820,  ...,  0.8701, -0.2847, -0.0421],\n",
       "         [-0.8673, -0.7150, -2.3083,  ...,  0.3192, -0.3387, -0.5125],\n",
       "         ...,\n",
       "         [-0.3653, -0.4037, -0.8965,  ...,  0.5988, -2.7247, -1.7125],\n",
       "         [ 0.4481, -0.9918,  1.6985,  ...,  2.2344,  2.3127, -0.2746],\n",
       "         [-2.1550,  0.3902,  1.4244,  ..., -0.8463, -2.4391, -0.3963]]),\n",
       " tensor([0., 0., 0.,  ..., 0., 1., 0.]))"
      ]
     },
     "execution_count": 6,
     "metadata": {},
     "output_type": "execute_result"
    }
   ],
   "source": [
    "dataset.tensors"
   ]
  },
  {
   "cell_type": "code",
   "execution_count": 7,
   "id": "0f9102b2",
   "metadata": {},
   "outputs": [],
   "source": [
    "# аналог train_test_split для pytorch\n",
    "train_ds, valid_ds = random_split(dataset, (70000, 30000))"
   ]
  },
  {
   "cell_type": "code",
   "execution_count": 9,
   "id": "02419bb9",
   "metadata": {},
   "outputs": [],
   "source": [
    "# DataLoader – загрузчик данных для pytorch, \n",
    "# он оптимизирует процесс чтения данных и позволяет более эффективно использовать ресурсы компьютера\n",
    "train_loader = DataLoader(train_ds, shuffle=True, batch_size=32)\n",
    "valid_loader = DataLoader(valid_ds, shuffle=True, batch_size=32)"
   ]
  },
  {
   "cell_type": "code",
   "execution_count": 10,
   "id": "5b6d8d4f",
   "metadata": {},
   "outputs": [
    {
     "data": {
      "text/plain": [
       "[tensor([[-1.7583,  0.3608, -0.5876,  0.1320, -1.7963, -2.0215,  2.8971, -1.1335,\n",
       "           2.0613,  0.5306,  1.3645,  2.1205,  0.5699, -2.9466, -0.0196],\n",
       "         [-1.7034, -0.3682,  1.6256, -0.6931, -0.3074, -2.0884,  0.3477,  1.3043,\n",
       "           2.5552,  0.5352,  1.5363, -0.6784,  0.1721, -2.0949,  0.4311],\n",
       "         [ 0.1809, -0.4636,  0.6682, -0.2211,  1.5800, -0.8583, -2.3896,  1.0907,\n",
       "          -1.4505, -1.5802, -0.9770, -0.0983,  0.0216,  2.2420,  0.0244],\n",
       "         [-0.6702, -0.7688,  1.2426,  1.6691,  1.0234, -0.7132, -2.7389,  1.6550,\n",
       "          -1.0138,  1.8925, -0.7340,  2.0839, -0.3286,  2.0803, -1.9305],\n",
       "         [-0.0662,  2.5638, -1.4399,  1.1460, -2.2458,  1.4896,  2.7170, -1.8178,\n",
       "           0.7237, -1.1392,  0.5604, -1.1185,  0.8911, -1.8509,  1.1927],\n",
       "         [ 0.1015,  0.9655,  2.7007, -1.7070,  1.0545, -1.0159, -0.7588,  2.4596,\n",
       "           2.9255, -0.9534,  1.7035, -0.3124,  0.9768, -1.8428,  1.2518],\n",
       "         [-0.8014, -1.2761, -3.0332,  1.3802, -0.3314, -1.5348,  3.0252, -3.2383,\n",
       "          -1.1399,  0.1523, -0.5332,  0.9847,  0.9111, -0.5929,  0.4015],\n",
       "         [-0.0117,  1.3259,  3.4217, -0.9191, -1.2210,  0.0542, -1.3387,  3.1989,\n",
       "           3.3339,  0.7016,  1.9187, -1.2384,  0.2533, -1.8725, -0.8922],\n",
       "         [ 0.3724,  0.6920,  2.5967,  1.3851, -0.9182,  1.3008, -0.0236,  2.2103,\n",
       "           3.5099,  0.1906,  2.0863, -0.2829,  0.9350, -2.6368,  0.6529],\n",
       "         [-0.0658,  0.9380, -0.8875,  0.8974, -0.3891, -0.5753, -1.3868, -0.4499,\n",
       "          -2.5769, -0.5044, -1.5989, -0.7504,  1.7823,  2.6103,  2.2870],\n",
       "         [ 0.3216, -0.8178, -2.3216,  0.6998, -0.7356,  1.9309,  0.8155, -2.1501,\n",
       "          -2.3537,  0.8051, -1.3608,  0.5180,  0.7336,  1.3842, -2.1448],\n",
       "         [-0.1882, -0.8376, -3.1770, -2.4462,  1.3584,  0.1076,  0.9461, -2.9051,\n",
       "          -3.3885, -0.5681, -1.9700,  0.5209, -0.0446,  2.1022,  0.5601],\n",
       "         [ 0.3759,  1.3606, -0.5214,  1.1699,  0.0133, -1.7583, -1.0806, -0.2061,\n",
       "          -1.7765,  0.0330, -1.1082,  0.0643,  0.1969,  1.8593,  0.7019],\n",
       "         [-0.5144, -1.7054, -1.2010,  0.2897, -1.3812,  0.6566, -0.5928, -0.8900,\n",
       "          -2.2195, -1.0630, -1.3483, -1.5722,  0.0528,  1.9593,  0.2763],\n",
       "         [ 0.0656,  0.9265, -2.7684, -0.6405, -0.0460,  0.2245,  0.2353, -2.4025,\n",
       "          -3.5346,  0.7372, -2.0908,  1.8621, -0.8182,  2.5538, -0.6697],\n",
       "         [-0.8479,  0.3265,  1.7395, -1.8190, -0.9710,  0.1219,  0.0127,  1.4744,\n",
       "           2.3794,  0.1907,  1.4157, -0.2842, -0.9647, -1.8014, -1.3340],\n",
       "         [-0.3995, -0.9453,  3.8623, -0.1308, -0.4452,  2.2346, -1.7385,  3.6606,\n",
       "           3.5386, -0.3776,  2.0213, -0.1571, -1.1335, -1.8349, -2.6278],\n",
       "         [ 0.9986, -0.9035,  1.7402, -0.5281, -0.0794,  0.3216,  0.0778,  1.4608,\n",
       "           2.4447, -0.0586,  1.4576,  1.9701,  1.1718, -1.8818,  1.3098],\n",
       "         [ 0.2214, -0.2413,  2.0542, -0.1793, -0.6276,  2.1261,  0.1567,  1.7101,\n",
       "           2.9499, -0.1738,  1.7619, -0.8479,  0.5982, -2.3009,  1.5367],\n",
       "         [ 0.7562, -0.3340,  3.1429, -0.2035,  0.4078,  2.0216, -4.4658,  3.6470,\n",
       "          -0.1333,  0.6958, -0.2930, -0.7240, -1.3964,  2.2454,  0.0328],\n",
       "         [-0.1550,  1.5469, -0.8953,  0.5788,  1.4507,  0.1160,  3.4432, -1.5143,\n",
       "           2.1819, -0.6033,  1.4624, -0.1135,  0.6164, -3.2999, -0.2105],\n",
       "         [-0.5865,  0.8441, -2.1034, -0.6302,  1.8358,  2.1424,  0.0526, -1.7977,\n",
       "          -2.8101, -0.3129, -1.6687,  1.1862, -1.2227,  2.0950, -0.4157],\n",
       "         [-1.0890,  1.0784,  1.1848,  0.4420, -0.9896, -0.2569,  0.7218,  0.8480,\n",
       "           2.3248,  0.6374,  1.4172,  0.3663,  2.2622, -2.1007, -0.0332],\n",
       "         [-0.1567, -1.2944,  1.8244,  2.1550,  0.9770,  0.3520, -2.7313,  2.1475,\n",
       "          -0.2147, -1.0277, -0.2583,  0.8738, -0.1132,  1.4738, -0.5094],\n",
       "         [ 0.6881,  1.4118,  3.0693, -0.2714,  0.4974,  0.0941, -0.8625,  2.7954,\n",
       "           3.3247, -0.7424,  1.9360,  0.6697, -2.9960, -2.0943, -0.7652],\n",
       "         [-1.0214, -0.1981,  2.1998,  0.4443, -0.1301, -1.0057, -0.0269,  1.8740,\n",
       "           2.9667, -0.3628,  1.7631, -1.0250, -0.9782, -2.2254,  0.5929],\n",
       "         [-1.4038,  0.9759, -1.5461,  0.5335,  0.0387, -1.2776, -0.2567, -1.2567,\n",
       "          -2.3571, -0.4066, -1.4141, -0.1959,  0.5060,  1.9017,  1.5398],\n",
       "         [-0.0847,  0.5341, -3.2675,  0.0622, -1.0257, -0.4666,  3.4506, -3.5305,\n",
       "          -1.0387, -0.0708, -0.4527,  0.4358,  0.3662, -0.8735,  1.9721],\n",
       "         [-0.0748, -0.2065, -1.7732,  0.2311,  0.0352, -1.2751, -0.1655, -1.4695,\n",
       "          -2.5761, -0.4129, -1.5400,  1.3853, -0.1655,  2.0231,  0.7621],\n",
       "         [ 0.4419,  1.3225, -1.8763, -0.7689, -1.1432,  0.1634,  0.0417, -1.6025,\n",
       "          -2.5118,  2.8937, -1.4918,  1.6906, -1.2459,  1.8751,  1.6300],\n",
       "         [ 1.2080, -0.8344, -4.0348,  1.0016,  2.3777,  1.5384,  1.4238, -3.7382,\n",
       "          -4.0841,  0.0923, -2.3608,  0.5102, -1.4317,  2.3976, -1.0936],\n",
       "         [ 0.6054, -1.6167, -2.9403,  0.4890, -0.5429,  0.1921,  0.6366, -2.6363,\n",
       "          -3.3721, -1.0168, -1.9750, -0.6526,  2.0116,  2.2385,  0.3973]]),\n",
       " tensor([0., 0., 1., 1., 0., 0., 0., 0., 0., 1., 1., 1., 1., 1., 1., 0., 0., 0.,\n",
       "         0., 1., 0., 1., 0., 1., 0., 0., 1., 0., 1., 1., 1., 1.])]"
      ]
     },
     "execution_count": 10,
     "metadata": {},
     "output_type": "execute_result"
    }
   ],
   "source": [
    "next(iter(train_loader))"
   ]
  },
  {
   "cell_type": "code",
   "execution_count": 11,
   "id": "76327845",
   "metadata": {},
   "outputs": [],
   "source": [
    "# Зададим функцию для отрисовки графиков\n",
    "\n",
    "def plot_loss_metrics(tl: list, vl: list, tm: list, vm: list):\n",
    "\n",
    "    fig, ax = plt.subplots(1, 2, figsize=(14, 5))\n",
    "    ax[0].plot(tl, label='Train loss')\n",
    "    ax[0].plot(vl, label='Valid Loss')\n",
    "    ax[0].legend()\n",
    "    ax[0].set_title('Loss')\n",
    "\n",
    "    ax[1].plot(tm, label='Train accuracy')\n",
    "    ax[1].plot(vm, label='Valid accuracy')\n",
    "    ax[1].legend()\n",
    "    ax[1].set_title('Accuracy')"
   ]
  },
  {
   "cell_type": "markdown",
   "id": "4844bd85",
   "metadata": {},
   "source": [
    "### Обучение модели\n",
    "\n",
    "В TensorFlow и pytorch процесс обучения модели программируется вручную, это позволяет более детально следить за процессом и контролировать параметры. Обычно цикл обучения реализуется функцией, но мы попробуем начать с обычного цикла. Процесс итеративный: одна эпоха заканчивается, когда все данные прошли через сеть. "
   ]
  },
  {
   "cell_type": "code",
   "execution_count": 15,
   "id": "615f218b",
   "metadata": {},
   "outputs": [
    {
     "data": {
      "text/plain": [
       "Parameter containing:\n",
       "tensor([[-0.0354,  0.1959,  0.1309, -0.0209, -0.0601,  0.2500,  0.1175, -0.0046,\n",
       "         -0.0846, -0.0729, -0.2239, -0.0916, -0.0483, -0.1110,  0.0392]],\n",
       "       requires_grad=True)"
      ]
     },
     "execution_count": 15,
     "metadata": {},
     "output_type": "execute_result"
    }
   ],
   "source": [
    "next(iter(model.parameters()))"
   ]
  },
  {
   "cell_type": "code",
   "execution_count": 24,
   "id": "3b8dfc31",
   "metadata": {},
   "outputs": [
    {
     "data": {
      "text/plain": [
       "Parameter containing:\n",
       "tensor([[-0.0349,  0.0272,  0.1751, -0.0094, -0.0109,  0.0071, -0.9283,  0.2620,\n",
       "         -1.0571, -0.0377, -0.8523,  0.0710,  0.0077,  1.1251,  0.0329]],\n",
       "       requires_grad=True)"
      ]
     },
     "execution_count": 24,
     "metadata": {},
     "output_type": "execute_result"
    }
   ],
   "source": [
    "next(iter(model.parameters()))"
   ]
  },
  {
   "cell_type": "code",
   "execution_count": 18,
   "id": "5104c21b",
   "metadata": {},
   "outputs": [],
   "source": [
    "# задаем оптимизатор – алгоритм градиентного спуска, который будет искать решение задачи: минимум функции потерь\n",
    "optimizer = optim.SGD(model.parameters(), lr=0.01) "
   ]
  },
  {
   "cell_type": "markdown",
   "id": "e121c09f",
   "metadata": {},
   "source": [
    "Формула бинарной кросс-энтропии: \n",
    "\n",
    "$$BCELoss = -\\sum_{i}^{N}\\big(y_i \\log p_i + (1-y_i)\\log(1-p_i)\\big)$$"
   ]
  },
  {
   "cell_type": "code",
   "execution_count": 19,
   "id": "2b25eb1a",
   "metadata": {},
   "outputs": [],
   "source": [
    "\n",
    "# решаем задачу бинарной классификации: будем минимизировать бинарную кросс-энтропию (BCE - Binary Cross Entropy)\n",
    "criterion = torch.nn.BCELoss() "
   ]
  },
  {
   "cell_type": "code",
   "execution_count": 20,
   "id": "6ff904a5",
   "metadata": {},
   "outputs": [],
   "source": [
    "def fit_model(model: torch.nn.modules.container.Sequential, n_epochs: int) -> tuple:\n",
    "\n",
    "    # будем сохранять историю обучения модели: значения функции потерь и метрики accuracy\n",
    "    # эти переменные будут отвечать за хранение значений после вычисления каждой эпохи \n",
    "    train_losses = []\n",
    "    valid_losses = []\n",
    "\n",
    "    train_metric = []\n",
    "    valid_metric = []\n",
    "    for epoch in range(n_epochs): \n",
    "        ####### ОБУЧЕНИЕ ##########\n",
    "        model.train() # устанавливаем модель в режим обучения – сейчас будут вычисляться градиенты\n",
    "\n",
    "        # эти два списка будут хранить значения внутри одной итерации \n",
    "        train_loss_iter = []\n",
    "        train_metric_iter = []\n",
    "        \n",
    "        # внутри одной эпохи итерируемся по загрузчику: обычно памяти меньше, \n",
    "        # чем данных, поэтому сразу взять всю выборку не получится\n",
    "        for samples, labels in train_loader:\n",
    "\n",
    "            # получаем предсказания модели, т.е. делаем прямой проход – forward pass\n",
    "            predictions = model(samples)\n",
    "\n",
    "            # на выходе из модели форма predictions (16, 1), а форма labels – (16, )\n",
    "            # нам нужно убрать одно измерение из predictions, это можно сделать с \n",
    "            # помощью метода squeeze(-1)\n",
    "            predictions = predictions.squeeze(-1)\n",
    "\n",
    "            # считаем значение функции потерь: сравниваем \n",
    "            # прогнозы модели с истинными значениями классов\n",
    "            loss = criterion(predictions, labels)\n",
    "\n",
    "            # обнуляем значения градиентов с предыдущего шага – pytorch этого не делает за нас\n",
    "            optimizer.zero_grad() \n",
    "\n",
    "            # делаем обратный проход – backward\n",
    "            loss.backward()\n",
    "\n",
    "            # применяем вычисленные градиенты к параметрам\n",
    "            optimizer.step()\n",
    "\n",
    "            # запишем loss в список\n",
    "            train_loss_iter.append(loss.item())\n",
    "\n",
    "            # вычислим точность: число совпавших классов в предсказании модели и настоящих меток\n",
    "            # \n",
    "            accuracy = (torch.round(predictions) == labels).sum()/len(samples)\n",
    "            train_metric_iter.append(accuracy)\n",
    "\n",
    "        ###### ВАЛИДАЦИЯ ###########\n",
    "        # Теперь будем идти по валидационному загрузчику и проверять качество модели на другой выборке\n",
    "        # переводим модель в режим валидации\n",
    "        model.eval()\n",
    "\n",
    "        valid_loss_iter = []\n",
    "        valid_metric_iter = []\n",
    "\n",
    "        for samples, labels in valid_loader:\n",
    "\n",
    "            # получаем предсказания модели, т.е. делаем прямой проход – forward pass\n",
    "            predictions = model(samples)\n",
    "\n",
    "            # на выходе из модели форма predictions (16, 1), а форма labels – (16, )\n",
    "            # нам нужно убрать одно измерение из predictions, это можно сделать с \n",
    "            # помощью метода squeeze(-1)\n",
    "            predictions = predictions.squeeze(-1)\n",
    "\n",
    "            # считаем значение функции потерь: сравниваем прогнозы модели с истинными значениями классов\n",
    "            loss = criterion(predictions, labels)\n",
    "\n",
    "            \n",
    "            # запишем loss в список, item() забирает только значение из переменной, не тянет за собой техническую информацию\n",
    "            valid_loss_iter.append(loss.item())\n",
    "\n",
    "            # вычислим точность: число совпавших классов в предсказании модели и настоящих меток\n",
    "            # \n",
    "            accuracy = (torch.round(predictions) == labels).sum()/len(samples)\n",
    "            valid_metric_iter.append(accuracy)\n",
    "        \n",
    "        \n",
    "        # после окончания эпохи запишем все усредненные характеристики в переменные \n",
    "        train_losses.append(np.mean(train_loss_iter))\n",
    "        valid_losses.append(np.mean(valid_loss_iter))\n",
    "\n",
    "        train_metric.append(np.mean(train_metric_iter))\n",
    "        valid_metric.append(np.mean(valid_metric_iter))\n",
    "        if epoch % 1 == 0:\n",
    "            print(f'Epoch {epoch} finished: train_loss={train_losses[-1]:.3f}, valid_loss={valid_losses[-1]:.3f}')\n",
    "    return train_losses, valid_losses, train_metric, valid_metric\n",
    "\n",
    "\n"
   ]
  },
  {
   "cell_type": "code",
   "execution_count": 21,
   "id": "50e82a36",
   "metadata": {},
   "outputs": [
    {
     "name": "stdout",
     "output_type": "stream",
     "text": [
      "Model: \n",
      "Sequential(\n",
      "  (0): Linear(in_features=15, out_features=1, bias=True)\n",
      "  (1): Sigmoid()\n",
      "), \n",
      " optimmizer: SGD (\n",
      "Parameter Group 0\n",
      "    dampening: 0\n",
      "    foreach: None\n",
      "    lr: 0.01\n",
      "    maximize: False\n",
      "    momentum: 0\n",
      "    nesterov: False\n",
      "    weight_decay: 0\n",
      "), \n",
      " loss: BCELoss()\n"
     ]
    }
   ],
   "source": [
    "print(f'Model: \\n{model}, \\n optimmizer: {optimizer}, \\n loss: {criterion}')"
   ]
  },
  {
   "cell_type": "code",
   "execution_count": 22,
   "id": "1a804577",
   "metadata": {},
   "outputs": [
    {
     "name": "stdout",
     "output_type": "stream",
     "text": [
      "Epoch 0 finished: train_loss=0.062, valid_loss=0.042\n",
      "Epoch 1 finished: train_loss=0.039, valid_loss=0.041\n",
      "Epoch 2 finished: train_loss=0.038, valid_loss=0.041\n",
      "Epoch 3 finished: train_loss=0.038, valid_loss=0.040\n",
      "Epoch 4 finished: train_loss=0.038, valid_loss=0.040\n",
      "Epoch 5 finished: train_loss=0.038, valid_loss=0.040\n",
      "Epoch 6 finished: train_loss=0.038, valid_loss=0.040\n",
      "Epoch 7 finished: train_loss=0.038, valid_loss=0.040\n",
      "Epoch 8 finished: train_loss=0.038, valid_loss=0.040\n",
      "Epoch 9 finished: train_loss=0.038, valid_loss=0.040\n",
      "Epoch 10 finished: train_loss=0.038, valid_loss=0.040\n",
      "Epoch 11 finished: train_loss=0.038, valid_loss=0.040\n",
      "Epoch 12 finished: train_loss=0.038, valid_loss=0.040\n",
      "Epoch 13 finished: train_loss=0.038, valid_loss=0.040\n",
      "Epoch 14 finished: train_loss=0.038, valid_loss=0.040\n"
     ]
    }
   ],
   "source": [
    "train_losses, valid_losses, train_metric, valid_metric = fit_model(model, 15)"
   ]
  },
  {
   "cell_type": "code",
   "execution_count": 23,
   "id": "22c18788",
   "metadata": {},
   "outputs": [
    {
     "data": {
      "image/png": "[encoded data removed]",
      "text/plain": [
       "<Figure size 1008x360 with 2 Axes>"
      ]
     },
     "metadata": {
      "needs_background": "light"
     },
     "output_type": "display_data"
    }
   ],
   "source": [
    "# Обучение прошло, теперь надо визуализировать лоссы и метрики: только по графикам можно понять, обучилась ли модель\n",
    "\n",
    "plot_loss_metrics(train_losses, valid_losses, train_metric, valid_metric)"
   ]
  },
  {
   "cell_type": "code",
   "execution_count": 25,
   "id": "04033570",
   "metadata": {},
   "outputs": [
    {
     "name": "stdout",
     "output_type": "stream",
     "text": [
      "Parameter containing:\n",
      "tensor([[-0.0349,  0.0272,  0.1751, -0.0094, -0.0109,  0.0071, -0.9283,  0.2620,\n",
      "         -1.0571, -0.0377, -0.8523,  0.0710,  0.0077,  1.1251,  0.0329]],\n",
      "       requires_grad=True)\n",
      "Parameter containing:\n",
      "tensor([-0.1991], requires_grad=True)\n"
     ]
    }
   ],
   "source": [
    "# Можно посмотреть на значения параметров\n",
    "# requires_grad означает, что эти параметры участвуют в обучении сети. \n",
    "# Иногда мы будем их «выключать», т. е. устанавливать это поле в False\n",
    "\n",
    "for param in model.parameters():\n",
    "    print(param)"
   ]
  },
  {
   "cell_type": "markdown",
   "id": "93cb553d",
   "metadata": {},
   "source": [
    "Обычный вопрос: \n",
    "> сколько нейронов и слоев необходимо выбирать для решения задачи? \n",
    "\n",
    "Исчерпывающего ответа **нет**, можно почитать ответы на [stats.stackexchange.com](https://stats.stackexchange.com/questions/181/how-to-choose-the-number-of-hidden-layers-and-nodes-in-a-feedforward-neural-netw)"
   ]
  },
  {
   "cell_type": "code",
   "execution_count": 31,
   "id": "04445afd",
   "metadata": {},
   "outputs": [
    {
     "name": "stdout",
     "output_type": "stream",
     "text": [
      "----------------------------------------------------------------\n",
      "        Layer (type)               Output Shape         Param #\n",
      "================================================================\n",
      "            Linear-1                   [64, 32]             512\n",
      "           Dropout-2                   [64, 32]               0\n",
      "           Sigmoid-3                   [64, 32]               0\n",
      "            Linear-4                   [64, 16]             528\n",
      "           Dropout-5                   [64, 16]               0\n",
      "           Sigmoid-6                   [64, 16]               0\n",
      "            Linear-7                    [64, 1]              17\n",
      "           Sigmoid-8                    [64, 1]               0\n",
      "================================================================\n",
      "Total params: 1,057\n",
      "Trainable params: 1,057\n",
      "Non-trainable params: 0\n",
      "----------------------------------------------------------------\n",
      "Input size (MB): 0.00\n",
      "Forward/backward pass size (MB): 0.07\n",
      "Params size (MB): 0.00\n",
      "Estimated Total Size (MB): 0.08\n",
      "----------------------------------------------------------------\n"
     ]
    }
   ],
   "source": [
    "# Зададим другую модель\n",
    "\n",
    "model = nn.Sequential(\n",
    "    nn.Linear(n_features, 32),\n",
    "    nn.Dropout(),\n",
    "    nn.Sigmoid(),\n",
    "    nn.Linear(32, 16),\n",
    "    nn.Dropout(),\n",
    "    nn.Sigmoid(),\n",
    "    nn.Linear(16, 1),\n",
    "    nn.Sigmoid()\n",
    "\n",
    ")\n",
    "\n",
    "summary(model, (n_features, ), batch_size=64)"
   ]
  },
  {
   "cell_type": "code",
   "execution_count": 32,
   "id": "6a1ea6d7",
   "metadata": {},
   "outputs": [],
   "source": [
    "optimizer = torch.optim.SGD(model.parameters(), lr=0.01)\n",
    "criterion = torch.nn.BCELoss()"
   ]
  },
  {
   "cell_type": "code",
   "execution_count": 33,
   "id": "024aba81",
   "metadata": {},
   "outputs": [
    {
     "name": "stdout",
     "output_type": "stream",
     "text": [
      "Epoch 0 finished: train_loss=0.648, valid_loss=0.482\n",
      "Epoch 1 finished: train_loss=0.321, valid_loss=0.066\n",
      "Epoch 2 finished: train_loss=0.122, valid_loss=0.036\n",
      "Epoch 3 finished: train_loss=0.077, valid_loss=0.035\n",
      "Epoch 4 finished: train_loss=0.061, valid_loss=0.037\n",
      "Epoch 5 finished: train_loss=0.053, valid_loss=0.040\n",
      "Epoch 6 finished: train_loss=0.048, valid_loss=0.042\n",
      "Epoch 7 finished: train_loss=0.045, valid_loss=0.043\n",
      "Epoch 8 finished: train_loss=0.044, valid_loss=0.044\n",
      "Epoch 9 finished: train_loss=0.042, valid_loss=0.046\n",
      "Epoch 10 finished: train_loss=0.041, valid_loss=0.047\n",
      "Epoch 11 finished: train_loss=0.040, valid_loss=0.048\n",
      "Epoch 12 finished: train_loss=0.040, valid_loss=0.049\n",
      "Epoch 13 finished: train_loss=0.039, valid_loss=0.049\n",
      "Epoch 14 finished: train_loss=0.038, valid_loss=0.050\n",
      "Epoch 15 finished: train_loss=0.039, valid_loss=0.051\n",
      "Epoch 16 finished: train_loss=0.039, valid_loss=0.051\n",
      "Epoch 17 finished: train_loss=0.038, valid_loss=0.052\n",
      "Epoch 18 finished: train_loss=0.038, valid_loss=0.052\n",
      "Epoch 19 finished: train_loss=0.038, valid_loss=0.053\n"
     ]
    }
   ],
   "source": [
    "tl, vl, tm, vm = fit_model(model, 20)"
   ]
  },
  {
   "cell_type": "code",
   "execution_count": 30,
   "id": "5bc82ed0",
   "metadata": {},
   "outputs": [
    {
     "data": {
      "image/png": "[encoded data removed]",
      "text/plain": [
       "<Figure size 1008x360 with 2 Axes>"
      ]
     },
     "metadata": {
      "needs_background": "light"
     },
     "output_type": "display_data"
    }
   ],
   "source": [
    "# Обучение прошло, теперь надо визуализировать лоссы и метрики: \n",
    "# только по графикам можно понять, обучилась ли модель\n",
    "plot_loss_metrics(tl, vl, tm, vm)"
   ]
  },
  {
   "cell_type": "code",
   "execution_count": 34,
   "id": "185ac564",
   "metadata": {},
   "outputs": [
    {
     "name": "stdout",
     "output_type": "stream",
     "text": [
      "----------------------------------------------------------------\n",
      "        Layer (type)               Output Shape         Param #\n",
      "================================================================\n",
      "            Linear-1                  [64, 512]           8,192\n",
      "           Sigmoid-2                  [64, 512]               0\n",
      "            Linear-3                  [64, 256]         131,328\n",
      "           Sigmoid-4                  [64, 256]               0\n",
      "            Linear-5                  [64, 128]          32,896\n",
      "           Sigmoid-6                  [64, 128]               0\n",
      "            Linear-7                  [64, 128]          16,512\n",
      "           Sigmoid-8                  [64, 128]               0\n",
      "            Linear-9                    [64, 1]             129\n",
      "          Sigmoid-10                    [64, 1]               0\n",
      "================================================================\n",
      "Total params: 189,057\n",
      "Trainable params: 189,057\n",
      "Non-trainable params: 0\n",
      "----------------------------------------------------------------\n",
      "Input size (MB): 0.00\n",
      "Forward/backward pass size (MB): 1.00\n",
      "Params size (MB): 0.72\n",
      "Estimated Total Size (MB): 1.73\n",
      "----------------------------------------------------------------\n"
     ]
    }
   ],
   "source": [
    "# Зададим модель еще сложнее\n",
    "\n",
    "model = nn.Sequential(\n",
    "    nn.Linear(n_features, 512),\n",
    "    nn.Sigmoid(),\n",
    "    nn.Linear(512, 256),\n",
    "    nn.Sigmoid(),\n",
    "    nn.Linear(256, 128),\n",
    "    nn.Sigmoid(),\n",
    "    nn.Linear(128, 128),\n",
    "    nn.Sigmoid(),\n",
    "    nn.Linear(128, 1),\n",
    "    nn.Sigmoid()\n",
    "\n",
    ")\n",
    "\n",
    "summary(model, (n_features, ), batch_size=64)"
   ]
  },
  {
   "cell_type": "code",
   "execution_count": 35,
   "id": "639cab88",
   "metadata": {},
   "outputs": [
    {
     "name": "stdout",
     "output_type": "stream",
     "text": [
      "Epoch 0 finished: train_loss=0.694, valid_loss=0.695\n",
      "Epoch 1 finished: train_loss=0.693, valid_loss=0.694\n",
      "Epoch 2 finished: train_loss=0.692, valid_loss=0.690\n",
      "Epoch 3 finished: train_loss=0.689, valid_loss=0.685\n",
      "Epoch 4 finished: train_loss=0.673, valid_loss=0.647\n",
      "Epoch 5 finished: train_loss=0.388, valid_loss=0.085\n",
      "Epoch 6 finished: train_loss=0.050, valid_loss=0.040\n",
      "Epoch 7 finished: train_loss=0.036, valid_loss=0.037\n",
      "Epoch 8 finished: train_loss=0.034, valid_loss=0.036\n",
      "Epoch 9 finished: train_loss=0.034, valid_loss=0.036\n",
      "Epoch 10 finished: train_loss=0.034, valid_loss=0.036\n",
      "Epoch 11 finished: train_loss=0.034, valid_loss=0.036\n",
      "Epoch 12 finished: train_loss=0.034, valid_loss=0.036\n",
      "Epoch 13 finished: train_loss=0.033, valid_loss=0.036\n",
      "Epoch 14 finished: train_loss=0.033, valid_loss=0.035\n",
      "Epoch 15 finished: train_loss=0.033, valid_loss=0.035\n",
      "Epoch 16 finished: train_loss=0.033, valid_loss=0.035\n",
      "Epoch 17 finished: train_loss=0.033, valid_loss=0.035\n",
      "Epoch 18 finished: train_loss=0.033, valid_loss=0.035\n",
      "Epoch 19 finished: train_loss=0.033, valid_loss=0.035\n"
     ]
    }
   ],
   "source": [
    "optimizer = torch.optim.SGD(model.parameters(), lr=0.01)\n",
    "criterion = torch.nn.BCELoss()\n",
    "tl, vl, tm, vm = fit_model(model, 20)"
   ]
  },
  {
   "cell_type": "code",
   "execution_count": 36,
   "id": "8efd81ed",
   "metadata": {},
   "outputs": [
    {
     "data": {
      "image/png": "[encoded data removed]",
      "text/plain": [
       "<Figure size 1008x360 with 2 Axes>"
      ]
     },
     "metadata": {
      "needs_background": "light"
     },
     "output_type": "display_data"
    }
   ],
   "source": [
    "plot_loss_metrics(tl, vl, tm, vm)"
   ]
  },
  {
   "cell_type": "code",
   "execution_count": null,
   "id": "4ce38deb",
   "metadata": {},
   "outputs": [],
   "source": []
  }
 ],
 "metadata": {
  "kernelspec": {
   "display_name": "Python 3.8.13 ('base')",
   "language": "python",
   "name": "python3"
  },
  "language_info": {
   "codemirror_mode": {
    "name": "ipython",
    "version": 3
   },
   "file_extension": ".py",
   "mimetype": "text/x-python",
   "name": "python",
   "nbconvert_exporter": "python",
   "pygments_lexer": "ipython3",
   "version": "3.8.13"
  },
  "varInspector": {
   "cols": {
    "lenName": 16,
    "lenType": 16,
    "lenVar": 40
   },
   "kernels_config": {
    "python": {
     "delete_cmd_postfix": "",
     "delete_cmd_prefix": "del ",
     "library": "var_list.py",
     "varRefreshCmd": "print(var_dic_list())"
    },
    "r": {
     "delete_cmd_postfix": ") ",
     "delete_cmd_prefix": "rm(",
     "library": "var_list.r",
     "varRefreshCmd": "cat(var_dic_list()) "
    }
   },
   "types_to_exclude": [
    "module",
    "function",
    "builtin_function_or_method",
    "instance",
    "_Feature"
   ],
   "window_display": false
  },
  "vscode": {
   "interpreter": {
    "hash": "adc66c65d93db816433054494484c560af56b221980bf3117122d95010e4a047"
   }
  }
 },
 "nbformat": 4,
 "nbformat_minor": 5
}
